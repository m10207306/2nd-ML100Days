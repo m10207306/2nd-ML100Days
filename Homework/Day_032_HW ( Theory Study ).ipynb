{
 "cells": [
  {
   "cell_type": "markdown",
   "metadata": {},
   "source": [
    "## 練習時間\n",
    "相信大家目前都能夠初步了解機器學習專案的流程及步驟，今天的作業希望大家能夠看看全球機器學習巨頭們在做的機器學習專案。以 google 為例，下圖是 Google 內部專案使用機器學習的數量，隨著時間進展，現在早已超過 2000 個專案在使用 ML。"
   ]
  },
  {
   "cell_type": "markdown",
   "metadata": {},
   "source": [
    "![image](https://cdn-images-1.medium.com/max/800/1*U_L8qI8RmYS-MOBrYvXhSA.png)"
   ]
  },
  {
   "cell_type": "markdown",
   "metadata": {},
   "source": [
    "底下幫同學整理幾間知名企業的 blog 或機器學習網站 (自行搜尋也可)，請挑選一篇文章閱讀並試著回答\n",
    "1. 專案的目標？ (要解決什麼問題）\n",
    "2. 使用的技術是？ (只需知道名稱即可，例如：使用 CNN 卷積神經網路做影像分類)\n",
    "3. 資料來源？ "
   ]
  },
  {
   "cell_type": "markdown",
   "metadata": {},
   "source": [
    "- [Google AI blog](https://ai.googleblog.com/)\n",
    "- [Facebook Research blog](https://research.fb.com/blog/)\n",
    "- [Apple machine learning journal](https://machinelearning.apple.com/)\n",
    "- [機器之心](https://www.jiqizhixin.com/)\n",
    "- [雷鋒網](http://www.leiphone.com/category/ai)"
   ]
  },
  {
   "cell_type": "markdown",
   "metadata": {},
   "source": [
    "文章：Google AI Blog - Off-Policy Classification - A New Reinforcement Learning Model Selection Method<br>\n",
    "\n",
    "1.專案目標：<br>\n",
    "（目前的理解）Reinforcement Learning(RL) 當中有一種叫做Off-Policy RL，主要是由另外一個機器去搜集資料來讓主機器學習<br>\n",
    "這方法的特別在於有新的資料進來之後，比較表現的方式就需要做對應的調整<br>\n",
    "但是此方法的困難在於Training可以不依靠現實的機器人，但是Evaluation不行(原因不確定)，而且實際驗證(ground-truth evaluation)如果使用真實的機器人效率太差，所以目標是排序出最有希望的Model減少實際驗證的負擔。<br>\n",
    "\n",
    "2.使用的技術：<br>\n",
    "Off-Policy Classification(OPC)，目前理解的概念是，用舊資料來驗證機器的表現，然後把這驗證當成一個分類問題，比如標記「可能導致成功」or「保證導致失敗」\n",
    "\n",
    "3.資料來源：<br>\n",
    "沒特別提到，但是藉由相機來收取影像"
   ]
  },
  {
   "cell_type": "code",
   "execution_count": null,
   "metadata": {},
   "outputs": [],
   "source": []
  }
 ],
 "metadata": {
  "kernelspec": {
   "display_name": "Python 3",
   "language": "python",
   "name": "python3"
  },
  "language_info": {
   "codemirror_mode": {
    "name": "ipython",
    "version": 3
   },
   "file_extension": ".py",
   "mimetype": "text/x-python",
   "name": "python",
   "nbconvert_exporter": "python",
   "pygments_lexer": "ipython3",
   "version": "3.6.8"
  }
 },
 "nbformat": 4,
 "nbformat_minor": 2
}
